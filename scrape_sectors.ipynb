{
 "cells": [
  {
   "cell_type": "code",
   "execution_count": 1,
   "id": "dac8cb28",
   "metadata": {},
   "outputs": [],
   "source": [
    "# import dependencies \n",
    "import pandas as pd\n",
    "from splinter import Browser\n",
    "from bs4 import BeautifulSoup as soup\n",
    "import pandas as pd\n",
    "import datetime as dt\n",
    "from webdriver_manager.chrome import ChromeDriverManager\n",
    "import time\n",
    "import numpy as np\n",
    "import os\n",
    "import random"
   ]
  },
  {
   "cell_type": "code",
   "execution_count": 2,
   "id": "091a9fd5",
   "metadata": {},
   "outputs": [
    {
     "name": "stderr",
     "output_type": "stream",
     "text": [
      "\n",
      "\n",
      "====== WebDriver manager ======\n",
      "Current google-chrome version is 109.0.5414\n",
      "Get LATEST chromedriver version for 109.0.5414 google-chrome\n",
      "Trying to download new driver from https://chromedriver.storage.googleapis.com/109.0.5414.74/chromedriver_mac64.zip\n",
      "Driver has been saved in cache [/Users/evanbruno/.wdm/drivers/chromedriver/mac64/109.0.5414.74]\n"
     ]
    }
   ],
   "source": [
    "# open browser\n",
    "executable_path = {'executable_path': ChromeDriverManager().install()}\n",
    "browser = Browser('chrome', **executable_path, headless=False)"
   ]
  },
  {
   "cell_type": "code",
   "execution_count": 3,
   "id": "ee11cff9",
   "metadata": {},
   "outputs": [],
   "source": [
    "# Visit Page\n",
    "url = 'https://www.stockmonitor.com/sectors/'\n",
    "browser.visit(url)"
   ]
  },
  {
   "cell_type": "code",
   "execution_count": 4,
   "id": "2d63b39b",
   "metadata": {},
   "outputs": [],
   "source": [
    "html = browser.html\n",
    "test = soup(html, 'html.parser')"
   ]
  },
  {
   "cell_type": "code",
   "execution_count": 43,
   "id": "3ea590c7",
   "metadata": {},
   "outputs": [],
   "source": [
    "html = browser.html\n",
    "test = soup(html, 'html.parser')\n",
    "\n",
    "tester = test.find('tbody').find_all('tr')\n",
    "\n",
    "#iterate through each sector in page\n",
    "\n",
    "for row in tester:\n",
    "    dict_name = row.find_all('td')[1].get_text().split('\\n')[1]\n",
    "    \n",
    "    browser.find_by_text(dict_name).click()\n",
    "    \n",
    "    time.sleep(2)\n",
    "    \n",
    "    html = browser.html\n",
    "    test = soup(html, 'html.parser')\n",
    "    \n",
    "    stocks = []\n",
    "    \n",
    "    #obtain each stock\n",
    "    \n",
    "    for row1 in test.find('tbody').find_all('tr'):\n",
    "        stock_name = row1.find_all('td')[1].get_text().split('\\n')[1]\n",
    "        \n",
    "        stocks.append(stock_name)\n",
    "        \n",
    "    #convert to dataframe\n",
    "        \n",
    "    data = pd.DataFrame(stocks)\n",
    "        \n",
    "    # convert dataframe to csv\n",
    "    mypath = f\"sectors\"\n",
    "    if not os.path.isdir(mypath):\n",
    "        os.makedirs(mypath)\n",
    "        \n",
    "    data.to_csv(f\"{mypath}/{dict_name}\", index=False)\n",
    "    \n",
    "    browser.visit(url)\n",
    "    \n",
    "    time.sleep(2)\n",
    "    \n",
    "    "
   ]
  },
  {
   "cell_type": "code",
   "execution_count": 37,
   "id": "3d20f004",
   "metadata": {},
   "outputs": [],
   "source": [
    "html = browser.html\n",
    "test = soup(html, 'html.parser')\n",
    "\n",
    "for row in test.find('tbody').find_all('tr'):\n",
    "    dict_name = row.find_all('td')[1].get_text().split('\\n')[1]"
   ]
  },
  {
   "cell_type": "code",
   "execution_count": 38,
   "id": "015bde31",
   "metadata": {},
   "outputs": [
    {
     "data": {
      "text/plain": [
       "'XEL'"
      ]
     },
     "execution_count": 38,
     "metadata": {},
     "output_type": "execute_result"
    }
   ],
   "source": [
    "dict_name"
   ]
  },
  {
   "cell_type": "code",
   "execution_count": null,
   "id": "ff27d08f",
   "metadata": {},
   "outputs": [],
   "source": []
  }
 ],
 "metadata": {
  "kernelspec": {
   "display_name": "PythonData",
   "language": "python",
   "name": "pythondata"
  },
  "language_info": {
   "codemirror_mode": {
    "name": "ipython",
    "version": 3
   },
   "file_extension": ".py",
   "mimetype": "text/x-python",
   "name": "python",
   "nbconvert_exporter": "python",
   "pygments_lexer": "ipython3",
   "version": "3.9.7"
  }
 },
 "nbformat": 4,
 "nbformat_minor": 5
}
