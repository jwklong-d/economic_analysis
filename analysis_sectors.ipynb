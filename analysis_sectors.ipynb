{
 "cells": [
  {
   "cell_type": "code",
   "execution_count": 1,
   "id": "8858a4e8",
   "metadata": {},
   "outputs": [],
   "source": [
    "import pandas as pd\n",
    "import os"
   ]
  },
  {
   "cell_type": "code",
   "execution_count": 2,
   "id": "46d4e269",
   "metadata": {},
   "outputs": [],
   "source": [
    "#obtain list of sectors\n",
    "directory = f\"Analyzing - Future\"\n",
    "list_sector = []\n",
    "for filename in os.listdir(directory):\n",
    "    list_sector.append(filename)"
   ]
  },
  {
   "cell_type": "code",
   "execution_count": 9,
   "id": "fdc18185",
   "metadata": {},
   "outputs": [
    {
     "data": {
      "text/plain": [
       "['Consumer Defensive Sector',\n",
       " 'Financial Services Sector',\n",
       " 'Energy Sector',\n",
       " 'Basic Materials Sector',\n",
       " 'Industrials Sector',\n",
       " 'Consumer Cyclical Sector',\n",
       " 'Healthcare Sector',\n",
       " 'Utilities Sector',\n",
       " 'Technology Sector']"
      ]
     },
     "execution_count": 9,
     "metadata": {},
     "output_type": "execute_result"
    }
   ],
   "source": [
    "list_sector = list_sector[1:]\n",
    "list_sector"
   ]
  },
  {
   "cell_type": "code",
   "execution_count": 10,
   "id": "55b01b63",
   "metadata": {},
   "outputs": [],
   "source": [
    "\n",
    "for name in list_sector:\n",
    "    \n",
    "    testing = pd.DataFrame()\n",
    "    \n",
    "    #obtain list of sectors\n",
    "    directory = f'Analyzing - Future/{name}'\n",
    "    sector = []\n",
    "    for filename in os.listdir(directory):\n",
    "        if filename.endswith(\".csv\"):\n",
    "            sector.append(filename)\n",
    "        \n",
    "    \n",
    "    for stock in sector:\n",
    "\n",
    "    \n",
    "        data = pd.read_csv(f\"Analyzing - Future/{name}/{stock}\")\n",
    "\n",
    "        testing = pd.concat([testing, data])\n",
    "\n",
    "        \n",
    "    testing = testing.sort_values(by='Datetime')\n",
    "    \n",
    "    dates = testing['Datetime'].unique().tolist()\n",
    "    \n",
    "    \n",
    "    dict_gains = {'1': [], '5': [], '10' : [], '20' : [], '30' : []}\n",
    "\n",
    "    gains = ['1', '5', '10', '20', '30']\n",
    "\n",
    "    for date in dates:\n",
    "        data_df = testing.loc[testing['Datetime'] == date]\n",
    "\n",
    "        for g in gains:\n",
    "            mean = data_df[g].mean()\n",
    "\n",
    "            dict_gains[g].append(mean)\n",
    "            \n",
    "    data_df = pd.DataFrame.from_dict(dict_gains)\n",
    "\n",
    "    data_df['Datetime'] = dates\n",
    "    \n",
    "    mypath = f\"Sectors - Mean\"\n",
    "    if not os.path.isdir(mypath):\n",
    "        os.makedirs(mypath)\n",
    "\n",
    "    data_df.to_csv(f\"{mypath}/{name}.csv\")\n",
    "            \n",
    "    "
   ]
  },
  {
   "cell_type": "code",
   "execution_count": 41,
   "id": "9f5e34ad",
   "metadata": {},
   "outputs": [
    {
     "data": {
      "text/plain": [
       "'Communication Services Sector'"
      ]
     },
     "execution_count": 41,
     "metadata": {},
     "output_type": "execute_result"
    }
   ],
   "source": [
    "name"
   ]
  },
  {
   "cell_type": "code",
   "execution_count": 35,
   "id": "84651c0a",
   "metadata": {},
   "outputs": [
    {
     "data": {
      "text/html": [
       "<div>\n",
       "<style scoped>\n",
       "    .dataframe tbody tr th:only-of-type {\n",
       "        vertical-align: middle;\n",
       "    }\n",
       "\n",
       "    .dataframe tbody tr th {\n",
       "        vertical-align: top;\n",
       "    }\n",
       "\n",
       "    .dataframe thead th {\n",
       "        text-align: right;\n",
       "    }\n",
       "</style>\n",
       "<table border=\"1\" class=\"dataframe\">\n",
       "  <thead>\n",
       "    <tr style=\"text-align: right;\">\n",
       "      <th></th>\n",
       "      <th>1</th>\n",
       "      <th>5</th>\n",
       "      <th>10</th>\n",
       "      <th>20</th>\n",
       "      <th>30</th>\n",
       "      <th>Datetime</th>\n",
       "    </tr>\n",
       "  </thead>\n",
       "  <tbody>\n",
       "    <tr>\n",
       "      <th>0</th>\n",
       "      <td>-1.678411</td>\n",
       "      <td>-3.671940</td>\n",
       "      <td>-3.692397</td>\n",
       "      <td>-6.686227</td>\n",
       "      <td>-4.595956</td>\n",
       "      <td>2003-02-03 00:46:40</td>\n",
       "    </tr>\n",
       "    <tr>\n",
       "      <th>1</th>\n",
       "      <td>-0.867534</td>\n",
       "      <td>-3.520907</td>\n",
       "      <td>-3.557409</td>\n",
       "      <td>-6.356973</td>\n",
       "      <td>-3.524541</td>\n",
       "      <td>2003-02-04 00:46:40</td>\n",
       "    </tr>\n",
       "    <tr>\n",
       "      <th>2</th>\n",
       "      <td>-0.887946</td>\n",
       "      <td>-4.027478</td>\n",
       "      <td>-2.665802</td>\n",
       "      <td>-6.608707</td>\n",
       "      <td>-0.880763</td>\n",
       "      <td>2003-02-05 00:46:40</td>\n",
       "    </tr>\n",
       "    <tr>\n",
       "      <th>3</th>\n",
       "      <td>-0.390473</td>\n",
       "      <td>-4.021572</td>\n",
       "      <td>-1.484050</td>\n",
       "      <td>-6.042737</td>\n",
       "      <td>1.761451</td>\n",
       "      <td>2003-02-06 00:46:40</td>\n",
       "    </tr>\n",
       "    <tr>\n",
       "      <th>4</th>\n",
       "      <td>-0.238032</td>\n",
       "      <td>-3.003106</td>\n",
       "      <td>-2.533796</td>\n",
       "      <td>-8.410230</td>\n",
       "      <td>-0.623205</td>\n",
       "      <td>2003-02-07 00:46:40</td>\n",
       "    </tr>\n",
       "  </tbody>\n",
       "</table>\n",
       "</div>"
      ],
      "text/plain": [
       "          1         5        10        20        30             Datetime\n",
       "0 -1.678411 -3.671940 -3.692397 -6.686227 -4.595956  2003-02-03 00:46:40\n",
       "1 -0.867534 -3.520907 -3.557409 -6.356973 -3.524541  2003-02-04 00:46:40\n",
       "2 -0.887946 -4.027478 -2.665802 -6.608707 -0.880763  2003-02-05 00:46:40\n",
       "3 -0.390473 -4.021572 -1.484050 -6.042737  1.761451  2003-02-06 00:46:40\n",
       "4 -0.238032 -3.003106 -2.533796 -8.410230 -0.623205  2003-02-07 00:46:40"
      ]
     },
     "execution_count": 35,
     "metadata": {},
     "output_type": "execute_result"
    }
   ],
   "source": [
    "data_df = pd.DataFrame.from_dict(dict_gains)\n",
    "\n",
    "data_df['Datetime'] = dates\n",
    "\n",
    "data_df.head()"
   ]
  }
 ],
 "metadata": {
  "kernelspec": {
   "display_name": "PythonData",
   "language": "python",
   "name": "pythondata"
  },
  "language_info": {
   "codemirror_mode": {
    "name": "ipython",
    "version": 3
   },
   "file_extension": ".py",
   "mimetype": "text/x-python",
   "name": "python",
   "nbconvert_exporter": "python",
   "pygments_lexer": "ipython3",
   "version": "3.9.7"
  }
 },
 "nbformat": 4,
 "nbformat_minor": 5
}
