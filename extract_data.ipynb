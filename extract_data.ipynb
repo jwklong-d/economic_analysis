{
 "cells": [
  {
   "cell_type": "code",
   "execution_count": 6,
   "id": "46b744d6",
   "metadata": {},
   "outputs": [],
   "source": [
    "# Importing the yfinance package\n",
    "import yfinance as yf\n",
    "import pandas as pd\n",
    "import os"
   ]
  },
  {
   "cell_type": "code",
   "execution_count": 7,
   "id": "65ca5a73",
   "metadata": {},
   "outputs": [],
   "source": [
    "list_factors = ['DXY', 'TLT', 'VIX', 'SPY', 'QQQ', 'DIA', 'GLD', 'SLV', 'CRUDE', 'BTC', 'TNX', 'UUP']"
   ]
  },
  {
   "cell_type": "code",
   "execution_count": 8,
   "id": "527788b6",
   "metadata": {},
   "outputs": [
    {
     "name": "stdout",
     "output_type": "stream",
     "text": [
      "[*********************100%***********************]  1 of 1 completed\n",
      "[*********************100%***********************]  1 of 1 completed\n",
      "[*********************100%***********************]  1 of 1 completed\n",
      "[*********************100%***********************]  1 of 1 completed\n",
      "[*********************100%***********************]  1 of 1 completed\n",
      "[*********************100%***********************]  1 of 1 completed\n",
      "[*********************100%***********************]  1 of 1 completed\n",
      "[*********************100%***********************]  1 of 1 completed\n",
      "[*********************100%***********************]  1 of 1 completed\n",
      "\n",
      "1 Failed download:\n",
      "- CRUDE: No data found, symbol may be delisted\n",
      "[*********************100%***********************]  1 of 1 completed\n",
      "[*********************100%***********************]  1 of 1 completed\n",
      "[*********************100%***********************]  1 of 1 completed\n"
     ]
    }
   ],
   "source": [
    "for ticker in list_factors:\n",
    "\n",
    "\n",
    "    # Set the start and end date\n",
    "    start_date = '2000-01-01'\n",
    "    end_date = '2023-01-01'\n",
    "\n",
    "    # Get the data\n",
    "    data = yf.download(ticker, start_date, end_date)\n",
    "    \n",
    "    #Convert to dataframe\n",
    "    data_df = pd.DataFrame(data)\n",
    "    \n",
    "    #Create Folder\n",
    "    mypath = \"Factors\"\n",
    "    if not os.path.isdir(mypath):\n",
    "        os.makedirs(mypath)\n",
    "        \n",
    "    # Export as csv\n",
    "        \n",
    "    data_df.to_csv(f'{mypath}/{ticker}.csv')"
   ]
  },
  {
   "cell_type": "code",
   "execution_count": null,
   "id": "a2dc0476",
   "metadata": {},
   "outputs": [],
   "source": []
  }
 ],
 "metadata": {
  "kernelspec": {
   "display_name": "PythonData",
   "language": "python",
   "name": "pythondata"
  },
  "language_info": {
   "codemirror_mode": {
    "name": "ipython",
    "version": 3
   },
   "file_extension": ".py",
   "mimetype": "text/x-python",
   "name": "python",
   "nbconvert_exporter": "python",
   "pygments_lexer": "ipython3",
   "version": "3.9.7"
  }
 },
 "nbformat": 4,
 "nbformat_minor": 5
}
